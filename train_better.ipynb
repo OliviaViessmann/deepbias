{
 "cells": [
  {
   "cell_type": "code",
   "execution_count": 1,
   "metadata": {},
   "outputs": [
    {
     "name": "stderr",
     "output_type": "stream",
     "text": [
      "/usr/pubsw/packages/python/anaconda3-2019.03/lib/python3.7/site-packages/dask/config.py:168: YAMLLoadWarning: calling yaml.load() without Loader=... is deprecated, as the default Loader is unsafe. Please read https://msg.pyyaml.org/load for full details.\n",
      "  data = yaml.load(f.read()) or {}\n",
      "Issue loading cv2\n"
     ]
    },
    {
     "data": {
      "text/plain": [
       "'2.4.1'"
      ]
     },
     "execution_count": 1,
     "metadata": {},
     "output_type": "execute_result"
    }
   ],
   "source": [
    "#Code for improved fMRI-bias learning\n",
    "#OV Jan 2021\n",
    "####IMPORTS\n",
    "import tensorflow as tf\n",
    "import socket\n",
    "import neurite as ne\n",
    "import neurite_sandbox as nes\n",
    "import numpy as np\n",
    "import keras\n",
    "import freesurfer as fs\n",
    "from keras.optimizers import Adam\n",
    "from keras import backend as K\n",
    "from keras import layers as KL\n",
    "#Load my own functions\n",
    "import my_utils as utils\n",
    "#from freesurfer import deeplearn as fsd\n",
    "#OV: This imports all the local settings, e.g. subjects etc. from the header.py and netparms.py file, make your changes in there as needed\n",
    "from netparms import *\n",
    "from header_better import *\n",
    "import losspad\n",
    "#OV add matplotlib for plotting and cross checks\n",
    "#import matplotlib.pyplot as plt\n",
    "import random as rd\n",
    "import string as string\n",
    "####END IMPORTS\n",
    "tf.__version__"
   ]
  },
  {
   "cell_type": "markdown",
   "metadata": {},
   "source": [
    "READ IN DATA\n"
   ]
  },
  {
   "cell_type": "code",
   "execution_count": 2,
   "metadata": {},
   "outputs": [],
   "source": [
    "surfs_sphere   = np.load('data_train/surfs_sphere.npy',allow_pickle = \"true\")\n",
    "surfs_pials    = np.load('data_train/surfs_pials.npy',allow_pickle = \"true\")\n",
    "surfs_inflated = np.load('data_train/surfs_inflated.npy',allow_pickle = \"true\")\n",
    "labels_cortex  = np.load('data_train/labels_cortex.npy',allow_pickle = \"true\")\n",
    "maps_func      = np.load('data_train/maps_func.npy',allow_pickle = \"true\")\n",
    "maps_angles    = np.load('data_train/maps_angles.npy',allow_pickle = \"true\")\n",
    "maps_thickness = np.load('data_train/maps_thickness.npy',allow_pickle = \"true\")\n",
    "maps_angio     = np.load('data_train/maps_angio.npy',allow_pickle = \"true\")\n",
    "NumFuncs       = np.load('data_train/NumFuncs.npy',allow_pickle = \"true\")\n",
    "#%whos"
   ]
  },
  {
   "cell_type": "code",
   "execution_count": 3,
   "metadata": {},
   "outputs": [],
   "source": [
    "\n",
    "#test=angio.copy()\n",
    "#n,bins,patches = plt.hist(test.ravel(), bins = 'auto', alpha = 0.4, label = 'Normalised thickness')\n",
    "#labels_cortex.shape\n",
    "#labels_cortex = np.ones(labels_cortex.shape)"
   ]
  },
  {
   "cell_type": "markdown",
   "metadata": {},
   "source": [
    "Define in and ouput data and assign a cortex label if wanted:"
   ]
  },
  {
   "cell_type": "code",
   "execution_count": 4,
   "metadata": {},
   "outputs": [
    {
     "name": "stdout",
     "output_type": "stream",
     "text": [
      "(256, 512)\n",
      "[16.000 16.000 16.000 10.000 16.000 14.000 14.000 12.000 0.000 0.000]\n"
     ]
    }
   ],
   "source": [
    "numInputs = 1\n",
    "#Assign in- and output data\n",
    "inputs  = []\n",
    "outputs = [] \n",
    "for sno, subject in enumerate(subjects): \n",
    "   for hno, hemi in enumerate(hemis):\n",
    "      for rn, func_runs in enumerate(Func_runs):\n",
    "         if numInputs > 1:\n",
    "            #We don't have a full set of runs for all subjects, some didn't register well\n",
    "            #also multiply by cortex label \n",
    "            tmp_in = np.zeros(input_shape)\n",
    "            try:\n",
    "               outputs.append(np.multiply(maps_func[sno][hno][rn].data,labels_cortex[sno][hno]))\n",
    "               tmp_in[...,0] = np.multiply(maps_thickness[sno][hno].data,labels_cortex[sno][hno])\n",
    "               tmp_in[...,1] = np.multiply(maps_angio[sno][hno].data,labels_cortex[sno][hno])\n",
    "               tmp_in[...,2] = np.multiply(maps_angles[sno][hno][rn].data,labels_cortex[sno][hno])\n",
    "               inputs.append(tmp_in)\n",
    "            except IndexError:\n",
    "               continue\n",
    "         elif numInputs == 1:\n",
    "            try: \n",
    "               inputs.append(np.multiply(maps_func[sno][hno][rn].data,labels_cortex[sno][hno]))\n",
    "               #outputs.append(maps_angio[sno][hno].data)\n",
    "               outputs.append(np.multiply(maps_thickness[sno][hno].data,labels_cortex[sno][hno]))\n",
    "               #outputs.append(maps_angles[sno][hno][rn].data) \n",
    "               #print(\"Single input\")\n",
    "            except IndexError:\n",
    "               continue  \n",
    "print(maps_func[0][0][0].shape)\n",
    "print(NumFuncs)"
   ]
  },
  {
   "cell_type": "markdown",
   "metadata": {},
   "source": [
    "Circuarly leave-on-out strategy for training and testing"
   ]
  },
  {
   "cell_type": "code",
   "execution_count": 5,
   "metadata": {},
   "outputs": [
    {
     "name": "stdout",
     "output_type": "stream",
     "text": [
      "subject: sub-MSC01\n",
      "input dimensions training: (97, 256, 512, 1) and testing (16, 256, 512, 1) \n",
      "output dimensions: training (97, 256, 512, 1) and testing: (16, 256, 512, 1) \n",
      "using masked loss\n",
      "Epoch 1/2\n",
      "   6/1024 [..............................] - ETA: 3:43 - loss: 8.1008 - accuracy: 0.0422WARNING:tensorflow:Callback method `on_train_batch_end` is slow compared to the batch time (batch time: 0.0688s vs `on_train_batch_end` time: 0.1256s). Check your callbacks.\n",
      "1024/1024 [==============================] - 275s 222ms/step - loss: 2.4207 - accuracy: 0.0288 - val_loss: 0.3965 - val_accuracy: 0.0000e+00\n",
      "Epoch 2/2\n",
      "1024/1024 [==============================] - 207s 203ms/step - loss: 0.3230 - accuracy: 3.8991e-04 - val_loss: 0.3248 - val_accuracy: 0.0000e+00\n"
     ]
    },
    {
     "ename": "TypeError",
     "evalue": "imshow() missing 1 required positional argument: 'X'",
     "output_type": "error",
     "traceback": [
      "\u001b[0;31m---------------------------------------------------------------------------\u001b[0m",
      "\u001b[0;31mTypeError\u001b[0m                                 Traceback (most recent call last)",
      "\u001b[0;32m<ipython-input-5-d61bf1c191af>\u001b[0m in \u001b[0;36m<module>\u001b[0;34m\u001b[0m\n\u001b[1;32m    107\u001b[0m    \u001b[0mplt\u001b[0m\u001b[0;34m.\u001b[0m\u001b[0mplot\u001b[0m\u001b[0;34m(\u001b[0m\u001b[0mep\u001b[0m\u001b[0;34m,\u001b[0m\u001b[0mfhist\u001b[0m\u001b[0;34m.\u001b[0m\u001b[0mhistory\u001b[0m\u001b[0;34m[\u001b[0m\u001b[0;34m'loss'\u001b[0m\u001b[0;34m]\u001b[0m\u001b[0;34m,\u001b[0m \u001b[0mlabel\u001b[0m\u001b[0;34m=\u001b[0m\u001b[0;34m(\u001b[0m\u001b[0;34m'train loss '\u001b[0m \u001b[0;34m+\u001b[0m \u001b[0msubject\u001b[0m\u001b[0;34m)\u001b[0m\u001b[0;34m)\u001b[0m\u001b[0;34m\u001b[0m\u001b[0;34m\u001b[0m\u001b[0m\n\u001b[1;32m    108\u001b[0m    \u001b[0mplt\u001b[0m\u001b[0;34m.\u001b[0m\u001b[0mplot\u001b[0m\u001b[0;34m(\u001b[0m\u001b[0mep\u001b[0m\u001b[0;34m,\u001b[0m\u001b[0mfhist\u001b[0m\u001b[0;34m.\u001b[0m\u001b[0mhistory\u001b[0m\u001b[0;34m[\u001b[0m\u001b[0;34m'val_loss'\u001b[0m\u001b[0;34m]\u001b[0m\u001b[0;34m,\u001b[0m\u001b[0mlabel\u001b[0m \u001b[0;34m=\u001b[0m \u001b[0;34m(\u001b[0m\u001b[0;34m'val loss '\u001b[0m \u001b[0;34m+\u001b[0m \u001b[0msubject\u001b[0m\u001b[0;34m)\u001b[0m\u001b[0;34m)\u001b[0m\u001b[0;34m\u001b[0m\u001b[0;34m\u001b[0m\u001b[0m\n\u001b[0;32m--> 109\u001b[0;31m    \u001b[0mplt\u001b[0m\u001b[0;34m.\u001b[0m\u001b[0mimshow\u001b[0m\u001b[0;34m(\u001b[0m\u001b[0;34m)\u001b[0m\u001b[0;34m\u001b[0m\u001b[0;34m\u001b[0m\u001b[0m\n\u001b[0m\u001b[1;32m    110\u001b[0m \u001b[0;34m\u001b[0m\u001b[0m\n\u001b[1;32m    111\u001b[0m    \u001b[0;31m#PREDICT\u001b[0m\u001b[0;34m\u001b[0m\u001b[0;34m\u001b[0m\u001b[0;34m\u001b[0m\u001b[0m\n",
      "\u001b[0;31mTypeError\u001b[0m: imshow() missing 1 required positional argument: 'X'"
     ]
    },
    {
     "data": {
      "image/png": "[encoded data removed]",
      "text/plain": [
       "<Figure size 432x288 with 1 Axes>"
      ]
     },
     "metadata": {
      "needs_background": "light"
     },
     "output_type": "display_data"
    }
   ],
   "source": [
    "#Define training settings\n",
    "epochs        = 2\n",
    "learning_rate = 1e-3\n",
    "use_mask      = True\n",
    "\n",
    "#Initialize\n",
    "loss        = []\n",
    "val_loss    = []\n",
    "plt.figure()\n",
    "\n",
    "NumFuncs    = NumFuncs.astype(int)\n",
    "CumSumFuncs = np.cumsum(NumFuncs)\n",
    "for subj, subject in enumerate(subjects):\n",
    "   numInputs = 1\n",
    "   target_shape = (maps_func[0][0][0].shape+(1,)) \n",
    "   input_shape  = (maps_func[0][0][0].shape+(numInputs,))\n",
    "   print('subject: %s' %(subject))\n",
    "  \n",
    "   #OV: neuron (ne) expects another channel, but here we just have one number (the thickness or fmri derived parameter), \n",
    "   #maybe replace that with the time series itself? for now we just add np.newaxis as an empty channel\n",
    "   #Assign training and testing data depending on subject\n",
    "   if numInputs > 1: \n",
    "      #print(CumSumFuncs[subj-1],CumSumFuncs[subj])\n",
    "      if (subj > 0 and subj<(len(subjects)-1)):\n",
    "        xtrain    = np.array(np.concatenate((inputs[0 : CumSumFuncs[subj-1]],\\\n",
    "                                        inputs[CumSumFuncs[subj]:-1])))\n",
    "        ytrain    = np.array(np.concatenate((outputs[0 : CumSumFuncs[subj-1]],\\\n",
    "                                        outputs[CumSumFuncs[subj]:-1])))[...,np.newaxis]\n",
    "        xtest     = np.array(inputs[CumSumFuncs[subj-1] : CumSumFuncs[subj]])\n",
    "        ytest     = np.array(outputs[CumSumFuncs[subj-1] : CumSumFuncs[subj]])[...,np.newaxis]\n",
    "      elif subj == 0:\n",
    "        xtrain    = np.array(inputs[NumFuncs[1]:-1])\n",
    "        ytrain    = np.array(outputs[NumFuncs[1]:-1])[...,np.newaxis]\n",
    "        xtest     = np.array(inputs[0:NumFuncs[0]])\n",
    "        ytest     = np.array(outputs[0:NumFuncs[0]])[...,np.newaxis]\n",
    "      elif subj == (len(subjects)-1):\n",
    "        xtrain    = np.array(inputs[0:-NumFuncs[subj]])\n",
    "        ytrain    = np.array(outputs[0:-NumFuncs[subj]])[...,np.newaxis]\n",
    "        xtest     = np.array(inputs[NumFuncs[subj-1]:NumFuncs[subj]])\n",
    "        ytest     = np.array(outputs[NumFuncs[subj-1]:NumFuncs[subj]])[...,np.newaxis]\n",
    "                                     \n",
    "   elif numInputs == 1:\n",
    "      #print(CumSumFuncs[subj-1],CumSumFuncs[subj])\n",
    "      if (subj > 0 and subj<(len(subjects)-1)):\n",
    "        xtrain    = np.array(np.concatenate((inputs[0 : CumSumFuncs[subj-1]],\\\n",
    "                                        inputs[CumSumFuncs[subj]:-1])))[...,np.newaxis]\n",
    "        ytrain    = np.array(np.concatenate((outputs[0 : CumSumFuncs[subj-1]],\\\n",
    "                                        outputs[CumSumFuncs[subj]:-1])))[...,np.newaxis]\n",
    "        xtest     = np.array(inputs[CumSumFuncs[subj-1] : CumSumFuncs[subj]])[...,np.newaxis]\n",
    "        ytest     = np.array(outputs[CumSumFuncs[subj-1] : CumSumFuncs[subj]])[...,np.newaxis]\n",
    "      elif subj == 0:\n",
    "        xtrain    = np.array(inputs[NumFuncs[1]:-1])[...,np.newaxis]\n",
    "        ytrain    = np.array(outputs[NumFuncs[1]:-1])[...,np.newaxis]\n",
    "        xtest     = np.array(inputs[0:NumFuncs[0]])[...,np.newaxis]\n",
    "        ytest     = np.array(outputs[0:NumFuncs[0]])[...,np.newaxis]\n",
    "      elif subj == (len(subjects)-1):\n",
    "        xtrain    = np.array(inputs[0:CumSumFuncs[subj-2]])[...,np.newaxis]\n",
    "        ytrain    = np.array(outputs[0:CumSumFuncs[subj-2]])[...,np.newaxis]\n",
    "        xtest     = np.array(inputs[CumSumFuncs[subj-1]:CumSumFuncs[subj]])[...,np.newaxis] \n",
    "        ytest     = np.array(outputs[CumSumFuncs[subj-1]:CumSumFuncs[subj]])[...,np.newaxis]     \n",
    "\n",
    "   print('input dimensions training: %s and testing %s ' %(xtrain.shape, xtest.shape))\n",
    "   print('output dimensions: training %s and testing: %s ' %(ytrain.shape, ytest.shape))\n",
    "    \n",
    "   #Set up model\n",
    "   K.clear_session()\n",
    "   model = ne.models.unet(nb_features, target_shape, nb_depth, (3,3), 1, nb_conv_per_level = nb_conv_per_level, \\\n",
    "                          batch_norm = -1, final_pred_activation = 'linear')\n",
    "   #make directory for callbacks \n",
    "   model_dir = 'model_dir'\n",
    "   RandomName=''.join(rd.sample(string.ascii_lowercase,5))\n",
    "   os.mkdir(os.path.join('/cluster/visuo/users/olivia/Projects/DeepBias/Better_code',model_dir,RandomName))\n",
    "   save_file_name = os.path.join(model_dir, RandomName, '{epoch:02d}.h5') \n",
    "   save_callbacks = tf.keras.callbacks.ModelCheckpoint(save_file_name)\n",
    "   #subclass of lr_callback written by Bruce. If loss explodes it detects that and falls back to a checkpoint\n",
    "   lr_callbacks   = nes.tf.callbacks.ReduceLRWithModelCheckpointAndRecovery(save_file_name, \\\n",
    "                                                                            monitor='loss', \\\n",
    "                                                                            verbose=1, \\\n",
    "                                                                            cooldown=10, \\\n",
    "                                                                            factor=.5, \\\n",
    "                                                                            patience=100, \\\n",
    "                                                                            thres=.2, \\\n",
    "                                                                            save_weights_only=True, \\\n",
    "                                                                            min_lr=1e-7)\n",
    "\n",
    "   sphereloss = losspad.spherical_loss(target_shape[0:2],pad=pad) #_no_pad[0:2],pad=pad)\n",
    "   if use_mask == False:\n",
    "       print('NOT using masked loss')\n",
    "       #OV changed to tensorflow.keras bc it gave attribute error otherwise\n",
    "       model.compile(optimizer=tf.keras.optimizers.Adam(lr=learning_rate), loss='MSE', metrics = ['accuracy'])\n",
    "   else:\n",
    "       print('using masked loss')\n",
    "       model.compile(optimizer=Adam(lr=learning_rate), loss=utils.masked_MSE_loss , metrics = ['accuracy'])\n",
    "\n",
    "   #Fit\n",
    "   #dg = generator(xtrain[...,np.newaxis], ytrain, 8,augment_noise=.3)\n",
    "   dg    = utils.generator(xtrain, ytrain, 8, augment_noise=.3)\n",
    "   fhist = model.fit(dg, steps_per_epoch=1024, epochs=epochs, \\\n",
    "                     validation_data= (xtest, ytest), \\\n",
    "                     verbose=1, \\\n",
    "                     callbacks=[lr_callbacks])\n",
    "\n",
    "   #Saving information for each CNN (i.e. each subject/cross valdiation cycle)\n",
    "   loss.append(fhist.history['loss'])\n",
    "   val_loss.append(fhist.history['val_loss'])\n",
    "   ep = np.arange(epochs)\n",
    "   plt.plot(ep,fhist.history['loss'], label=('train loss ' + subject))\n",
    "   plt.plot(ep,fhist.history['val_loss'],label = ('val loss ' + subject))\n",
    "   plt.imshow()\n",
    "\n",
    "   #PREDICT\n",
    "   #Test on unseen data from unseen subject\n",
    "   yp                 = model.predict(xtest)\n",
    "   #Take out non cortex labeled areas\n",
    "   yp[xtest==0]       = 0\n",
    "\n",
    "   #Mean differene between predicition and truth\n",
    "   print('Prediciting error is ' + str(np.absolute(ytest-yp).mean()))\n",
    "   Prediction_err.append(np.absolute(ytest-yp).mean())\n",
    "\n",
    "   #Error for scrambled prediction, \"null output error\"\n",
    "   rand                  = np.random.shuffle(ytest.copy().squeeze())\n",
    "   NullOutput_err.append(np.absolute(ytest.squeeze()-rand).mean())\n",
    "   print('Random error is ' + str(np.absolute(ytest.squeeze()-rand).mean()))\n",
    "\n",
    "   #Error for scrambled predictor (input), \"null input error\"\n",
    "   bonkers               = np.random.shuffle(xtest.copy().squeeze())\n",
    "   bonkers               = np.array(bonkers)[np.newaxis,...,np.newaxis]\n",
    "   yp_bonkers            = model.predict(bonkers)\n",
    "   NullInput_err.append(np.absolute(yp_bonkers.squeeze() - ytest.squeeze()).mean())\n",
    "   print('Error between bonkers input predictino and truth is ' + \\\n",
    "          str(np.absolute(yp_bonkers.squeeze() - ytest.squeeze()).mean()))\n",
    "   \n"
   ]
  },
  {
   "cell_type": "code",
   "execution_count": null,
   "metadata": {},
   "outputs": [],
   "source": [
    "#model.save(os.path.join(model_dir, RandomName) + '/final_model.h5')\n",
    "#trained_model = tf.keras.models.load_model(os.path.join(model_dir,RandomName) + '/final_model.h5'\n",
    "\n",
    "#Test on unseen data from unseen subject\n",
    "yp                 = model.predict(xtest)\n",
    "#Take out non cortex labeled areas\n",
    "yp[xtest==0]       = 0\n",
    "\n",
    "#Mean differene between predicition and truth\n",
    "print('Prediciting error is ' + str(np.absolute(ytest-yp).mean()))\n",
    "Prediction_err.append(np.absolute(ytest-yp).mean())\n",
    "\n",
    "#Error for scrambled prediction, \"null output error\"\n",
    "rand                  = np.random.shuffle(ytest.copy().squeeze())\n",
    "NullOutput_err.append(np.absolute(ytest.squeeze()-rand).mean())\n",
    "print('Random error is ' + str(np.absolute(ytest.squeeze()-rand).mean()))\n",
    "\n",
    "#Error for scrambled predictor (input), \"null input error\"\n",
    "bonkers               = np.random.shuffle(xtest.copy().squeeze())\n",
    "bonkers               = np.array(bonkers)[np.newaxis,...,np.newaxis]\n",
    "yp_bonkers            = model.predict(bonkers)\n",
    "NullInput_err.append(np.absolute(yp_bonkers.squeeze() - ytest.squeeze()).mean())\n",
    "print('Error between bonkers input predictino and truth is ' + \\\n",
    "      str(np.absolute(yp_bonkers.squeeze() - ytest.squeeze()).mean()))\n",
    "\n",
    "\n",
    "\n",
    "#Histogram of predicition error for orientation (not in percent)\n",
    "fig = plt.figure()\n",
    "tmp = ytest-yp\n",
    "tmp = tmp[~np.isnan(tmp)]\n",
    "tmp = tmp[~np.isinf(tmp)]\n",
    "tmp2 = ytest.squeeze()-rand\n",
    "tmp2 = tmp2[~np.isnan(tmp2)]\n",
    "tmp2 = tmp2[~np.isinf(tmp2)] \n",
    "n,bins,patches = plt.hist(tmp, bins = 'auto', alpha = 0.4, label = 'Prediction')\n",
    "plt.hist(tmp2, bins = bins, alpha = 0.4, label = 'Randomised orientation')\n",
    "plt.xlabel('prediction error [\\deg]')\n",
    "plt.ylabel('counts')\n",
    "plt.xlim(-90,90)\n",
    "#plt.legend()\n",
    "plt.title('Prediction error of orientation from fMRI')\n",
    "plt.show()"
   ]
  },
  {
   "cell_type": "code",
   "execution_count": null,
   "metadata": {},
   "outputs": [],
   "source": [
    "sphere      = surfs_sphere[-1][-1]\n",
    "pial_disp   = surfs_inflated[-1][-1]\n",
    "fv          = fs.Freeview()\n",
    "truth       = sphere.sample_parameterization(ytest.squeeze())\n",
    "overlay     = fv.OverlayTag(truth, name='truth')#, threshold=(.0, 90)) \n",
    "overlays    = [overlay]\n",
    "prediction  = sphere.sample_parameterization(yp.squeeze())\n",
    "overlay     = fv.OverlayTag(prediction, name='prediction')#, threshold=(0, 90)) \n",
    "overlays.append(overlay)\n",
    "difference  = sphere.sample_parameterization(ytest.squeeze()-yp.squeeze())\n",
    "overlay     = fv.OverlayTag(difference, name='difference')#, threshold=(-50,50)) \n",
    "overlays.append(overlay)\n",
    "\n",
    "\n",
    "fv.surf(pial_disp, overlay=overlays)\n",
    "fv.show(threads=20)\n",
    "\n",
    "#fv.show.__code__.co_varnames\n",
    "\n",
    "#Plot model overview\n",
    "#keras.utils.plot_model(model,to_file='model.png',show_shapes=True,show_layer_names=True)"
   ]
  },
  {
   "cell_type": "markdown",
   "metadata": {},
   "source": [
    "Plot binned dependencies on features"
   ]
  },
  {
   "cell_type": "code",
   "execution_count": null,
   "metadata": {},
   "outputs": [],
   "source": [
    "import itertools\n",
    "from scipy.stats import binned_statistic\n",
    "\n",
    "tmpfunc      = list(itertools.chain(*maps_func[:][:][0][:]))\n",
    "tmpfunc      = list(itertools.chain(*tmpfunc))\n",
    "tmpangles    = list(itertools.chain(*maps_angles[:][:][0][:]))\n",
    "tmpangles    = list(itertools.chain(*tmpangles))\n",
    "tmpfunc      = np.array(tmpfunc)\n",
    "tmpangles    = np.array(tmpangles)\n",
    "tmpfunc      = tmpfunc.ravel()\n",
    "tmpangles    = tmpangles.ravel()\n",
    "tmpangio     = maps_angio.ravel()\n",
    "tmpthick     = maps_thickness.ravel()\n",
    "\n",
    "#Remove outliers from functional MRI\n",
    "quant        = np.quantile(tmpfunc, [.1, .9])\n",
    "mask         = np.ones(tmpfunc.shape)\n",
    "mask[(tmpfunc>quant[1]) | (tmpfunc<quant[0])] = None \n",
    "tmpfunc      = tmpfunc[~np.isnan(mask)]\n",
    "tmpangles    = tmpangles[~np.isnan(mask)]\n",
    "tmpthick     = tmpthick[~np.isnan(mask)]\n",
    "tmpangio     = tmpangio[~np.isnan(mask)]\n",
    "plt.hist(tmpangio)\n",
    "\n",
    "print(tmp.shape, tmp2.shape)\n",
    "print(tmp,quant,mask,np.count_nonzero(mask) )\n",
    "mean_angio = binned_statistic(tmpangio, tmpfunc, statistic='mean', bins=100, range=(0,2))\n",
    "mean_thick = binned_statistic(tmpthick, tmpfunc, statistic='mean', bins=100, range=(0,5))\n",
    "mean_angle = binned_statistic(tmpangles, tmpfunc, statistic='mean', bins=100, range=(0,90))\n",
    "std_angio = binned_statistic(tmpangio, tmpfunc, statistic='std', bins=100, range=(0,2))\n",
    "std_thick = binned_statistic(tmpthick, tmpfunc, statistic='std', bins=100, range=(0,5))\n",
    "std_angle = binned_statistic(tmpangles, tmpfunc, statistic='std', bins=100, range=(0,90))\n",
    "\n",
    "plt.figure()\n",
    "plt.errorbar(mean_angio.bin_edges[:-1],mean_angio.statistic, label='fMRI binned by angio')\n",
    "plt.figure()\n",
    "plt.scatter(mean_thick.bin_edges[:-1],mean_thick.statistic, label='fMRI binned by thickness')\n",
    "plt.figure()\n",
    "plt.scatter(mean_angle.bin_edges[:-1],mean_angle.statistic, label='fMRI binned by angles')"
   ]
  },
  {
   "cell_type": "code",
   "execution_count": null,
   "metadata": {},
   "outputs": [],
   "source": []
  }
 ],
 "metadata": {
  "kernelspec": {
   "display_name": "Python 3",
   "language": "python",
   "name": "python3"
  },
  "language_info": {
   "codemirror_mode": {
    "name": "ipython",
    "version": 3
   },
   "file_extension": ".py",
   "mimetype": "text/x-python",
   "name": "python",
   "nbconvert_exporter": "python",
   "pygments_lexer": "ipython3",
   "version": "3.7.3"
  }
 },
 "nbformat": 4,
 "nbformat_minor": 2
}
